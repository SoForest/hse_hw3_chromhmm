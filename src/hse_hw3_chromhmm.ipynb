{
  "nbformat": 4,
  "nbformat_minor": 0,
  "metadata": {
    "colab": {
      "provenance": []
    },
    "kernelspec": {
      "name": "python3",
      "display_name": "Python 3"
    },
    "language_info": {
      "name": "python"
    }
  },
  "cells": [
    {
      "cell_type": "markdown",
      "source": [
        "# Устанавливаем java и ChromHmm"
      ],
      "metadata": {
        "id": "EaCQnYl--0Im"
      }
    },
    {
      "cell_type": "code",
      "execution_count": null,
      "metadata": {
        "colab": {
          "base_uri": "https://localhost:8080/"
        },
        "id": "6aEpOlBZ-iB3",
        "outputId": "f5fe4cfa-df16-4997-a994-c833ad98cab9"
      },
      "outputs": [
        {
          "output_type": "stream",
          "name": "stdout",
          "text": [
            "  % Total    % Received % Xferd  Average Speed   Time    Time     Time  Current\n",
            "                                 Dload  Upload   Total   Spent    Left  Speed\n",
            "100   155  100   155    0     0    975      0 --:--:-- --:--:-- --:--:--   974\n",
            "fix-colab-gpu.sh: line 5: nvcc: command not found\n"
          ]
        }
      ],
      "source": [
        "!curl -O https://raw.githubusercontent.com/deepjavalibrary/d2l-java/master/tools/fix-colab-gpu.sh && bash fix-colab-gpu.sh"
      ]
    },
    {
      "cell_type": "code",
      "source": [
        "!curl -O https://raw.githubusercontent.com/deepjavalibrary/d2l-java/master/tools/colab_build.sh && bash colab_build.sh"
      ],
      "metadata": {
        "colab": {
          "base_uri": "https://localhost:8080/"
        },
        "id": "umBrubjr-4fP",
        "outputId": "d4d7c1df-0c51-4b12-93ee-02f16abf1347"
      },
      "execution_count": null,
      "outputs": [
        {
          "output_type": "stream",
          "name": "stdout",
          "text": [
            "  % Total    % Received % Xferd  Average Speed   Time    Time     Time  Current\n",
            "                                 Dload  Upload   Total   Spent    Left  Speed\n",
            "\r  0     0    0     0    0     0      0      0 --:--:-- --:--:-- --:--:--     0\r100   520  100   520    0     0   3000      0 --:--:-- --:--:-- --:--:--  3005\n",
            "Update environment...\n",
            "Install Java...\n",
            "Install Jupyter java kernel...\n"
          ]
        }
      ]
    },
    {
      "cell_type": "code",
      "source": [
        "!java --list-modules | grep \"jdk.jshell\""
      ],
      "metadata": {
        "colab": {
          "base_uri": "https://localhost:8080/"
        },
        "id": "UfzWQqTr-7s8",
        "outputId": "76437716-82b4-4554-dc0f-0d03a1c2b21a"
      },
      "execution_count": null,
      "outputs": [
        {
          "output_type": "stream",
          "name": "stdout",
          "text": [
            "jdk.jshell@11.0.22\n"
          ]
        }
      ]
    },
    {
      "cell_type": "code",
      "source": [
        "! wget http://compbio.mit.edu/ChromHMM/ChromHMM.zip"
      ],
      "metadata": {
        "colab": {
          "base_uri": "https://localhost:8080/"
        },
        "id": "62amxIX8-9Sc",
        "outputId": "399c87ff-eada-43bd-b628-91c904d16278"
      },
      "execution_count": null,
      "outputs": [
        {
          "output_type": "stream",
          "name": "stdout",
          "text": [
            "--2024-03-23 15:42:25--  http://compbio.mit.edu/ChromHMM/ChromHMM.zip\n",
            "Resolving compbio.mit.edu (compbio.mit.edu)... 128.52.131.233\n",
            "Connecting to compbio.mit.edu (compbio.mit.edu)|128.52.131.233|:80... connected.\n",
            "HTTP request sent, awaiting response... 301 Moved Permanently\n",
            "Location: https://compbio.mit.edu/ChromHMM/ChromHMM.zip [following]\n",
            "--2024-03-23 15:42:25--  https://compbio.mit.edu/ChromHMM/ChromHMM.zip\n",
            "Connecting to compbio.mit.edu (compbio.mit.edu)|128.52.131.233|:443... connected.\n",
            "HTTP request sent, awaiting response... 200 OK\n",
            "Length: 48974627 (47M) [application/zip]\n",
            "Saving to: ‘ChromHMM.zip’\n",
            "\n",
            "ChromHMM.zip        100%[===================>]  46.71M  75.1MB/s    in 0.6s    \n",
            "\n",
            "2024-03-23 15:42:26 (75.1 MB/s) - ‘ChromHMM.zip’ saved [48974627/48974627]\n",
            "\n"
          ]
        }
      ]
    },
    {
      "cell_type": "code",
      "source": [
        "!unzip /content/ChromHMM.zip"
      ],
      "metadata": {
        "colab": {
          "base_uri": "https://localhost:8080/"
        },
        "id": "nPwXevDQ-_wG",
        "outputId": "3b7398fc-a130-4ea0-f388-2497451a5ec5"
      },
      "execution_count": null,
      "outputs": [
        {
          "output_type": "stream",
          "name": "stdout",
          "text": [
            "Archive:  /content/ChromHMM.zip\n",
            "   creating: ChromHMM/ANCHORFILES/\n",
            "   creating: ChromHMM/ANCHORFILES/ce10/\n",
            "  inflating: ChromHMM/ANCHORFILES/ce10/RefSeqTES.ce10.txt.gz  \n",
            "  inflating: ChromHMM/ANCHORFILES/ce10/RefSeqTSS.ce10.txt.gz  \n",
            "   creating: ChromHMM/ANCHORFILES/ce11/\n",
            "  inflating: ChromHMM/ANCHORFILES/ce11/RefSeqTES.ce11.txt.gz  \n",
            "  inflating: ChromHMM/ANCHORFILES/ce11/RefSeqTSS.ce11.txt.gz  \n",
            "   creating: ChromHMM/ANCHORFILES/ce6/\n",
            "  inflating: ChromHMM/ANCHORFILES/ce6/RefSeqTES.ce6.txt.gz  \n",
            "  inflating: ChromHMM/ANCHORFILES/ce6/RefSeqTSS.ce6.txt.gz  \n",
            "   creating: ChromHMM/ANCHORFILES/danRer10/\n",
            "  inflating: ChromHMM/ANCHORFILES/danRer10/RefSeqTES.danRer10.txt.gz  \n",
            "  inflating: ChromHMM/ANCHORFILES/danRer10/RefSeqTSS.danRer10.txt.gz  \n",
            "   creating: ChromHMM/ANCHORFILES/danRer11/\n",
            "  inflating: ChromHMM/ANCHORFILES/danRer11/RefSeqTES.danRer11.txt.gz  \n",
            "  inflating: ChromHMM/ANCHORFILES/danRer11/RefSeqTSS.danRer11.txt.gz  \n",
            "   creating: ChromHMM/ANCHORFILES/danRer7/\n",
            "  inflating: ChromHMM/ANCHORFILES/danRer7/RefSeqTES.danRer7.txt.gz  \n",
            "  inflating: ChromHMM/ANCHORFILES/danRer7/RefSeqTSS.danRer7.txt.gz  \n",
            "   creating: ChromHMM/ANCHORFILES/dm3/\n",
            "  inflating: ChromHMM/ANCHORFILES/dm3/RefSeqTES.dm3.txt.gz  \n",
            "  inflating: ChromHMM/ANCHORFILES/dm3/RefSeqTSS.dm3.txt.gz  \n",
            "   creating: ChromHMM/ANCHORFILES/dm6/\n",
            "  inflating: ChromHMM/ANCHORFILES/dm6/RefSeqTES.dm6.txt.gz  \n",
            "  inflating: ChromHMM/ANCHORFILES/dm6/RefSeqTSS.dm6.txt.gz  \n",
            "   creating: ChromHMM/ANCHORFILES/hg18/\n",
            "  inflating: ChromHMM/ANCHORFILES/hg18/RefSeqTES.hg18.txt.gz  \n",
            "  inflating: ChromHMM/ANCHORFILES/hg18/RefSeqTSS.hg18.txt.gz  \n",
            "   creating: ChromHMM/ANCHORFILES/hg19/\n",
            "  inflating: ChromHMM/ANCHORFILES/hg19/RefSeqTES.hg19.txt.gz  \n",
            "  inflating: ChromHMM/ANCHORFILES/hg19/RefSeqTSS.hg19.txt.gz  \n",
            "   creating: ChromHMM/ANCHORFILES/hg38/\n",
            "  inflating: ChromHMM/ANCHORFILES/hg38/RefSeqTES.hg38.txt.gz  \n",
            "  inflating: ChromHMM/ANCHORFILES/hg38/RefSeqTSS.hg38.txt.gz  \n",
            "   creating: ChromHMM/ANCHORFILES/hs1/\n",
            "  inflating: ChromHMM/ANCHORFILES/hs1/RefSeqTES.hs1.txt.gz  \n",
            "  inflating: ChromHMM/ANCHORFILES/hs1/RefSeqTSS.hs1.txt.gz  \n",
            "   creating: ChromHMM/ANCHORFILES/mm10/\n",
            "  inflating: ChromHMM/ANCHORFILES/mm10/RefSeqTES.mm10.txt.gz  \n",
            "  inflating: ChromHMM/ANCHORFILES/mm10/RefSeqTSS.mm10.txt.gz  \n",
            "   creating: ChromHMM/ANCHORFILES/mm39/\n",
            "  inflating: ChromHMM/ANCHORFILES/mm39/RefSeqTES.mm39.txt.gz  \n",
            "  inflating: ChromHMM/ANCHORFILES/mm39/RefSeqTSS.mm39.txt.gz  \n",
            "   creating: ChromHMM/ANCHORFILES/mm9/\n",
            "  inflating: ChromHMM/ANCHORFILES/mm9/RefSeqTES.mm9.txt.gz  \n",
            "  inflating: ChromHMM/ANCHORFILES/mm9/RefSeqTSS.mm9.txt.gz  \n",
            "   creating: ChromHMM/ANCHORFILES/rn5/\n",
            "  inflating: ChromHMM/ANCHORFILES/rn5/RefSeqTES.rn5.txt.gz  \n",
            "  inflating: ChromHMM/ANCHORFILES/rn5/RefSeqTSS.rn5.txt.gz  \n",
            "   creating: ChromHMM/ANCHORFILES/rn6/\n",
            "  inflating: ChromHMM/ANCHORFILES/rn6/RefSeqTES.rn6.txt.gz  \n",
            "  inflating: ChromHMM/ANCHORFILES/rn6/RefSeqTSS.rn6.txt.gz  \n",
            "  inflating: ChromHMM/ChromHMM.jar   \n",
            "  inflating: ChromHMM/ChromHMM_manual.pdf  \n",
            "   creating: ChromHMM/CHROMSIZES/\n",
            "  inflating: ChromHMM/CHROMSIZES/ce10.txt  \n",
            "  inflating: ChromHMM/CHROMSIZES/ce11.txt  \n",
            "  inflating: ChromHMM/CHROMSIZES/ce6.txt  \n",
            "  inflating: ChromHMM/CHROMSIZES/danRer10.txt  \n",
            "  inflating: ChromHMM/CHROMSIZES/danRer11.txt  \n",
            "  inflating: ChromHMM/CHROMSIZES/danRer7.txt  \n",
            "  inflating: ChromHMM/CHROMSIZES/dm3.txt  \n",
            "  inflating: ChromHMM/CHROMSIZES/dm6.txt  \n",
            "  inflating: ChromHMM/CHROMSIZES/hg18.txt  \n",
            "  inflating: ChromHMM/CHROMSIZES/hg19.txt  \n",
            "  inflating: ChromHMM/CHROMSIZES/hg38.txt  \n",
            "  inflating: ChromHMM/CHROMSIZES/hs1.txt  \n",
            "  inflating: ChromHMM/CHROMSIZES/mm10.txt  \n",
            "  inflating: ChromHMM/CHROMSIZES/mm39.txt  \n",
            "  inflating: ChromHMM/CHROMSIZES/mm9.txt  \n",
            "  inflating: ChromHMM/CHROMSIZES/rn5.txt  \n",
            "  inflating: ChromHMM/CHROMSIZES/rn6.txt  \n",
            "   creating: ChromHMM/COORDS/\n",
            "   creating: ChromHMM/COORDS/ce10/\n",
            "  inflating: ChromHMM/COORDS/ce10/RefSeqExon.ce10.bed.gz  \n",
            "  inflating: ChromHMM/COORDS/ce10/RefSeqGene.ce10.bed.gz  \n",
            "  inflating: ChromHMM/COORDS/ce10/RefSeqTES.ce10.bed.gz  \n",
            "  inflating: ChromHMM/COORDS/ce10/RefSeqTSS.ce10.bed.gz  \n",
            "  inflating: ChromHMM/COORDS/ce10/RefSeqTSS2kb.ce10.bed.gz  \n",
            "   creating: ChromHMM/COORDS/ce11/\n",
            "  inflating: ChromHMM/COORDS/ce11/RefSeqExon.ce11.bed.gz  \n",
            "  inflating: ChromHMM/COORDS/ce11/RefSeqGene.ce11.bed.gz  \n",
            "  inflating: ChromHMM/COORDS/ce11/RefSeqTES.ce11.bed.gz  \n",
            "  inflating: ChromHMM/COORDS/ce11/RefSeqTSS.ce11.bed.gz  \n",
            "  inflating: ChromHMM/COORDS/ce11/RefSeqTSS2kb.ce11.bed.gz  \n",
            "   creating: ChromHMM/COORDS/ce6/\n",
            "  inflating: ChromHMM/COORDS/ce6/RefSeqExon.ce6.bed.gz  \n",
            "  inflating: ChromHMM/COORDS/ce6/RefSeqGene.ce6.bed.gz  \n",
            "  inflating: ChromHMM/COORDS/ce6/RefSeqTES.ce6.bed.gz  \n",
            "  inflating: ChromHMM/COORDS/ce6/RefSeqTSS.ce6.bed.gz  \n",
            "  inflating: ChromHMM/COORDS/ce6/RefSeqTSS2kb.ce6.bed.gz  \n",
            "   creating: ChromHMM/COORDS/danRer10/\n",
            "  inflating: ChromHMM/COORDS/danRer10/RefSeqExon.danRer10.bed.gz  \n",
            "  inflating: ChromHMM/COORDS/danRer10/RefSeqGene.danRer10.bed.gz  \n",
            "  inflating: ChromHMM/COORDS/danRer10/RefSeqTES.danRer10.bed.gz  \n",
            "  inflating: ChromHMM/COORDS/danRer10/RefSeqTSS.danRer10.bed.gz  \n",
            "  inflating: ChromHMM/COORDS/danRer10/RefSeqTSS2kb.danRer10.bed.gz  \n",
            "   creating: ChromHMM/COORDS/danRer11/\n",
            "  inflating: ChromHMM/COORDS/danRer11/RefSeqExon.danRer11.bed.gz  \n",
            "  inflating: ChromHMM/COORDS/danRer11/RefSeqGene.danRer11.bed.gz  \n",
            "  inflating: ChromHMM/COORDS/danRer11/RefSeqTES.danRer11.bed.gz  \n",
            "  inflating: ChromHMM/COORDS/danRer11/RefSeqTSS.danRer11.bed.gz  \n",
            "  inflating: ChromHMM/COORDS/danRer11/RefSeqTSS2kb.danRer11.bed.gz  \n",
            "   creating: ChromHMM/COORDS/danRer7/\n",
            "  inflating: ChromHMM/COORDS/danRer7/RefSeqExon.danRer7.bed.gz  \n",
            "  inflating: ChromHMM/COORDS/danRer7/RefSeqGene.danRer7.bed.gz  \n",
            "  inflating: ChromHMM/COORDS/danRer7/RefSeqTES.danRer7.bed.gz  \n",
            "  inflating: ChromHMM/COORDS/danRer7/RefSeqTSS.danRer7.bed.gz  \n",
            "  inflating: ChromHMM/COORDS/danRer7/RefSeqTSS2kb.danRer7.bed.gz  \n",
            "   creating: ChromHMM/COORDS/dm3/\n",
            "  inflating: ChromHMM/COORDS/dm3/RefSeqExon.dm3.bed.gz  \n",
            "  inflating: ChromHMM/COORDS/dm3/RefSeqGene.dm3.bed.gz  \n",
            "  inflating: ChromHMM/COORDS/dm3/RefSeqTES.dm3.bed.gz  \n",
            "  inflating: ChromHMM/COORDS/dm3/RefSeqTSS.dm3.bed.gz  \n",
            "  inflating: ChromHMM/COORDS/dm3/RefSeqTSS2kb.dm3.bed.gz  \n",
            "   creating: ChromHMM/COORDS/dm6/\n",
            "  inflating: ChromHMM/COORDS/dm6/RefSeqExon.dm6.bed.gz  \n",
            "  inflating: ChromHMM/COORDS/dm6/RefSeqGene.dm6.bed.gz  \n",
            "  inflating: ChromHMM/COORDS/dm6/RefSeqTES.dm6.bed.gz  \n",
            "  inflating: ChromHMM/COORDS/dm6/RefSeqTSS.dm6.bed.gz  \n",
            "  inflating: ChromHMM/COORDS/dm6/RefSeqTSS2kb.dm6.bed.gz  \n",
            "   creating: ChromHMM/COORDS/hg18/\n",
            "  inflating: ChromHMM/COORDS/hg18/CpGIsland.hg18.bed.gz  \n",
            " extracting: ChromHMM/COORDS/hg18/laminB1lads.hg18.bed.gz  \n",
            "  inflating: ChromHMM/COORDS/hg18/RefSeqExon.hg18.bed.gz  \n",
            "  inflating: ChromHMM/COORDS/hg18/RefSeqGene.hg18.bed.gz  \n",
            "  inflating: ChromHMM/COORDS/hg18/RefSeqTES.hg18.bed.gz  \n",
            "  inflating: ChromHMM/COORDS/hg18/RefSeqTSS.hg18.bed.gz  \n",
            "  inflating: ChromHMM/COORDS/hg18/RefSeqTSS2kb.hg18.bed.gz  \n",
            "   creating: ChromHMM/COORDS/hg19/\n",
            "  inflating: ChromHMM/COORDS/hg19/CpGIsland.hg19.bed.gz  \n",
            " extracting: ChromHMM/COORDS/hg19/laminB1lads.hg19.bed.gz  \n",
            "  inflating: ChromHMM/COORDS/hg19/RefSeqExon.hg19.bed.gz  \n",
            "  inflating: ChromHMM/COORDS/hg19/RefSeqGene.hg19.bed.gz  \n",
            "  inflating: ChromHMM/COORDS/hg19/RefSeqTES.hg19.bed.gz  \n",
            "  inflating: ChromHMM/COORDS/hg19/RefSeqTSS.hg19.bed.gz  \n",
            "  inflating: ChromHMM/COORDS/hg19/RefSeqTSS2kb.hg19.bed.gz  \n",
            "   creating: ChromHMM/COORDS/hg38/\n",
            "  inflating: ChromHMM/COORDS/hg38/CpGIsland.hg38.bed.gz  \n",
            "  inflating: ChromHMM/COORDS/hg38/RefSeqExon.hg38.bed.gz  \n",
            "  inflating: ChromHMM/COORDS/hg38/RefSeqGene.hg38.bed.gz  \n",
            "  inflating: ChromHMM/COORDS/hg38/RefSeqTES.hg38.bed.gz  \n",
            "  inflating: ChromHMM/COORDS/hg38/RefSeqTSS.hg38.bed.gz  \n",
            "  inflating: ChromHMM/COORDS/hg38/RefSeqTSS2kb.hg38.bed.gz  \n",
            "   creating: ChromHMM/COORDS/hs1/\n",
            "  inflating: ChromHMM/COORDS/hs1/CpGIsland.hs1.bed.gz  \n",
            "  inflating: ChromHMM/COORDS/hs1/RefSeqExon.hs1.bed.gz  \n",
            "  inflating: ChromHMM/COORDS/hs1/RefSeqGene.hs1.bed.gz  \n",
            "  inflating: ChromHMM/COORDS/hs1/RefSeqTES.hs1.bed.gz  \n",
            "  inflating: ChromHMM/COORDS/hs1/RefSeqTSS.hs1.bed.gz  \n",
            "  inflating: ChromHMM/COORDS/hs1/RefSeqTSS2kb.hs1.bed.gz  \n",
            "   creating: ChromHMM/COORDS/mm10/\n",
            "  inflating: ChromHMM/COORDS/mm10/CpGIsland.mm10.bed.gz  \n",
            "  inflating: ChromHMM/COORDS/mm10/RefSeqExon.mm10.bed.gz  \n",
            "  inflating: ChromHMM/COORDS/mm10/RefSeqGene.mm10.bed.gz  \n",
            "  inflating: ChromHMM/COORDS/mm10/RefSeqTES.mm10.bed.gz  \n",
            "  inflating: ChromHMM/COORDS/mm10/RefSeqTSS.mm10.bed.gz  \n",
            "  inflating: ChromHMM/COORDS/mm10/RefSeqTSS2kb.mm10.bed.gz  \n",
            "   creating: ChromHMM/COORDS/mm39/\n",
            "  inflating: ChromHMM/COORDS/mm39/CpGIsland.mm39.bed.gz  \n",
            "  inflating: ChromHMM/COORDS/mm39/RefSeqExon.mm39.bed.gz  \n",
            "  inflating: ChromHMM/COORDS/mm39/RefSeqGene.mm39.bed.gz  \n",
            "  inflating: ChromHMM/COORDS/mm39/RefSeqTES.mm39.bed.gz  \n",
            "  inflating: ChromHMM/COORDS/mm39/RefSeqTSS.mm39.bed.gz  \n",
            "  inflating: ChromHMM/COORDS/mm39/RefSeqTSS2kb.mm39.bed.gz  \n",
            "   creating: ChromHMM/COORDS/mm9/\n",
            "  inflating: ChromHMM/COORDS/mm9/CpGIsland.mm9.bed.gz  \n",
            "  inflating: ChromHMM/COORDS/mm9/RefSeqExon.mm9.bed.gz  \n",
            "  inflating: ChromHMM/COORDS/mm9/RefSeqGene.mm9.bed.gz  \n",
            "  inflating: ChromHMM/COORDS/mm9/RefSeqTES.mm9.bed.gz  \n",
            "  inflating: ChromHMM/COORDS/mm9/RefSeqTSS.mm9.bed.gz  \n",
            "  inflating: ChromHMM/COORDS/mm9/RefSeqTSS2kb.mm9.bed.gz  \n",
            "   creating: ChromHMM/COORDS/rn5/\n",
            "  inflating: ChromHMM/COORDS/rn5/CpGIsland.rn5.bed.gz  \n",
            "  inflating: ChromHMM/COORDS/rn5/RefSeqExon.rn5.bed.gz  \n",
            "  inflating: ChromHMM/COORDS/rn5/RefSeqGene.rn5.bed.gz  \n",
            "  inflating: ChromHMM/COORDS/rn5/RefSeqTES.rn5.bed.gz  \n",
            "  inflating: ChromHMM/COORDS/rn5/RefSeqTSS.rn5.bed.gz  \n",
            "  inflating: ChromHMM/COORDS/rn5/RefSeqTSS2kb.rn5.bed.gz  \n",
            "   creating: ChromHMM/COORDS/rn6/\n",
            "  inflating: ChromHMM/COORDS/rn6/CpGIsland.rn6.bed.gz  \n",
            "  inflating: ChromHMM/COORDS/rn6/RefSeqExon.rn6.bed.gz  \n",
            "  inflating: ChromHMM/COORDS/rn6/RefSeqGene.rn6.bed.gz  \n",
            "  inflating: ChromHMM/COORDS/rn6/RefSeqTES.rn6.bed.gz  \n",
            "  inflating: ChromHMM/COORDS/rn6/RefSeqTSS.rn6.bed.gz  \n",
            "  inflating: ChromHMM/COORDS/rn6/RefSeqTSS2kb.rn6.bed.gz  \n",
            "   creating: ChromHMM/SAMPLEDATA_HG18/\n",
            "  inflating: ChromHMM/SAMPLEDATA_HG18/GM12878_chr11_binary.txt.gz  \n",
            "  inflating: ChromHMM/SAMPLEDATA_HG18/K562_chr11_binary.txt.gz  \n",
            "   creating: ChromHMM/SRC/\n",
            "   creating: ChromHMM/SRC/edu/\n",
            "   creating: ChromHMM/SRC/edu/mit/\n",
            "   creating: ChromHMM/SRC/edu/mit/compbio/\n",
            "   creating: ChromHMM/SRC/edu/mit/compbio/ChromHMM/\n",
            "  inflating: ChromHMM/SRC/edu/mit/compbio/ChromHMM/BrowserOutput.java  \n",
            "  inflating: ChromHMM/SRC/edu/mit/compbio/ChromHMM/ChromHMM.java  \n",
            "  inflating: ChromHMM/SRC/edu/mit/compbio/ChromHMM/ConvertGeneTable.java  \n",
            "  inflating: ChromHMM/SRC/edu/mit/compbio/ChromHMM/NestedEliminateInitialize.java  \n",
            "  inflating: ChromHMM/SRC/edu/mit/compbio/ChromHMM/Preprocessing.java  \n",
            "  inflating: ChromHMM/SRC/edu/mit/compbio/ChromHMM/StateAnalysis.java  \n",
            "  inflating: ChromHMM/SRC/edu/mit/compbio/ChromHMM/Util.java  \n",
            "   creating: ChromHMM/SRC/org/\n",
            "   creating: ChromHMM/SRC/org/tc33/\n",
            "   creating: ChromHMM/SRC/org/tc33/jheatchart/\n",
            "  inflating: ChromHMM/SRC/org/tc33/jheatchart/HeatChart.java  \n",
            "  inflating: ChromHMM/versionlog.txt  \n"
          ]
        }
      ]
    },
    {
      "cell_type": "markdown",
      "source": [
        "# Скачиваем файлы"
      ],
      "metadata": {
        "id": "tPBR1Uo2_KlJ"
      }
    },
    {
      "cell_type": "code",
      "source": [
        "!wget http://hgdownload.cse.ucsc.edu/goldenPath/hg19/encodeDCC/wgEncodeBroadHistone/wgEncodeBroadHistoneDnd41H2azAlnRep2.bam -O H2AFZ.bam\n",
        "!wget http://hgdownload.cse.ucsc.edu/goldenPath/hg19/encodeDCC/wgEncodeBroadHistone/wgEncodeBroadHistoneDnd41H3k27acAlnRep1.bam -O H3K27ac.bam\n",
        "!wget http://hgdownload.cse.ucsc.edu/goldenPath/hg19/encodeDCC/wgEncodeBroadHistone/wgEncodeBroadHistoneDnd41H3k27me3AlnRep1.bam -O H3K27me3.bam\n",
        "!wget http://hgdownload.cse.ucsc.edu/goldenPath/hg19/encodeDCC/wgEncodeBroadHistone/wgEncodeBroadHistoneDnd41H3k36me3AlnRep1.bam -O H3K36me3.bam\n",
        "!wget http://hgdownload.cse.ucsc.edu/goldenPath/hg19/encodeDCC/wgEncodeBroadHistone/wgEncodeBroadHistoneDnd41H3k04me1AlnRep1.bam -O H3K4me1.bam\n",
        "!wget http://hgdownload.cse.ucsc.edu/goldenPath/hg19/encodeDCC/wgEncodeBroadHistone/wgEncodeBroadHistoneDnd41H3k04me2AlnRep1.bam -O H3K4me2.bam\n",
        "!wget http://hgdownload.cse.ucsc.edu/goldenPath/hg19/encodeDCC/wgEncodeBroadHistone/wgEncodeBroadHistoneDnd41H3k04me3AlnRep1.bam -O H3K4me3.bam\n",
        "!wget http://hgdownload.cse.ucsc.edu/goldenPath/hg19/encodeDCC/wgEncodeBroadHistone/wgEncodeBroadHistoneDnd41H3k79me2AlnRep1.bam -O H3K79me2.bam\n",
        "!wget http://hgdownload.cse.ucsc.edu/goldenPath/hg19/encodeDCC/wgEncodeBroadHistone/wgEncodeBroadHistoneDnd41H3k09acAlnRep1.bam -O H3K9ac.bam\n",
        "!wget http://hgdownload.cse.ucsc.edu/goldenPath/hg19/encodeDCC/wgEncodeBroadHistone/wgEncodeBroadHistoneDnd41H3k09me3AlnRep1.bam -O H3K9me3.bam\n",
        "\n",
        "# контроль\n",
        "!wget http://hgdownload.cse.ucsc.edu/goldenPath/hg19/encodeDCC/wgEncodeBroadHistone/wgEncodeBroadHistoneDnd41ControlStdAlnRep1.bam -O Control.bam"
      ],
      "metadata": {
        "colab": {
          "base_uri": "https://localhost:8080/"
        },
        "id": "_BVzdwZF_L3f",
        "outputId": "75bc5254-84f6-451b-c980-e89adee29fe2"
      },
      "execution_count": null,
      "outputs": [
        {
          "output_type": "stream",
          "name": "stdout",
          "text": [
            "--2024-03-22 15:08:58--  http://hgdownload.cse.ucsc.edu/goldenPath/hg19/encodeDCC/wgEncodeBroadHistone/wgEncodeBroadHistoneDnd41H2azAlnRep2.bam\n",
            "Resolving hgdownload.cse.ucsc.edu (hgdownload.cse.ucsc.edu)... 128.114.198.53\n",
            "Connecting to hgdownload.cse.ucsc.edu (hgdownload.cse.ucsc.edu)|128.114.198.53|:80... connected.\n",
            "HTTP request sent, awaiting response... 200 OK\n",
            "Length: 816954385 (779M) [application/octet-stream]\n",
            "Saving to: ‘H2AFZ.bam’\n",
            "\n",
            "H2AFZ.bam           100%[===================>] 779.11M  51.0MB/s    in 16s     \n",
            "\n",
            "2024-03-22 15:09:15 (47.4 MB/s) - ‘H2AFZ.bam’ saved [816954385/816954385]\n",
            "\n",
            "--2024-03-22 15:09:15--  http://hgdownload.cse.ucsc.edu/goldenPath/hg19/encodeDCC/wgEncodeBroadHistone/wgEncodeBroadHistoneDnd41H3k27acAlnRep1.bam\n",
            "Resolving hgdownload.cse.ucsc.edu (hgdownload.cse.ucsc.edu)... 128.114.198.53\n",
            "Connecting to hgdownload.cse.ucsc.edu (hgdownload.cse.ucsc.edu)|128.114.198.53|:80... connected.\n",
            "HTTP request sent, awaiting response... 200 OK\n",
            "Length: 1488790047 (1.4G) [application/octet-stream]\n",
            "Saving to: ‘H3K27ac.bam’\n",
            "\n",
            "H3K27ac.bam         100%[===================>]   1.39G  52.9MB/s    in 27s     \n",
            "\n",
            "2024-03-22 15:09:43 (51.7 MB/s) - ‘H3K27ac.bam’ saved [1488790047/1488790047]\n",
            "\n",
            "--2024-03-22 15:09:43--  http://hgdownload.cse.ucsc.edu/goldenPath/hg19/encodeDCC/wgEncodeBroadHistone/wgEncodeBroadHistoneDnd41H3k27me3AlnRep1.bam\n",
            "Resolving hgdownload.cse.ucsc.edu (hgdownload.cse.ucsc.edu)... 128.114.198.53\n",
            "Connecting to hgdownload.cse.ucsc.edu (hgdownload.cse.ucsc.edu)|128.114.198.53|:80... connected.\n",
            "HTTP request sent, awaiting response... 200 OK\n",
            "Length: 1328000872 (1.2G) [application/octet-stream]\n",
            "Saving to: ‘H3K27me3.bam’\n",
            "\n",
            "H3K27me3.bam        100%[===================>]   1.24G  47.0MB/s    in 25s     \n",
            "\n",
            "2024-03-22 15:10:08 (51.1 MB/s) - ‘H3K27me3.bam’ saved [1328000872/1328000872]\n",
            "\n",
            "--2024-03-22 15:10:08--  http://hgdownload.cse.ucsc.edu/goldenPath/hg19/encodeDCC/wgEncodeBroadHistone/wgEncodeBroadHistoneDnd41H3k36me3AlnRep1.bam\n",
            "Resolving hgdownload.cse.ucsc.edu (hgdownload.cse.ucsc.edu)... 128.114.198.53\n",
            "Connecting to hgdownload.cse.ucsc.edu (hgdownload.cse.ucsc.edu)|128.114.198.53|:80... connected.\n",
            "HTTP request sent, awaiting response... 200 OK\n",
            "Length: 1425221160 (1.3G) [application/octet-stream]\n",
            "Saving to: ‘H3K36me3.bam’\n",
            "\n",
            "H3K36me3.bam        100%[===================>]   1.33G  53.5MB/s    in 26s     \n",
            "\n",
            "2024-03-22 15:10:34 (52.5 MB/s) - ‘H3K36me3.bam’ saved [1425221160/1425221160]\n",
            "\n",
            "--2024-03-22 15:10:34--  http://hgdownload.cse.ucsc.edu/goldenPath/hg19/encodeDCC/wgEncodeBroadHistone/wgEncodeBroadHistoneDnd41H3k04me1AlnRep1.bam\n",
            "Resolving hgdownload.cse.ucsc.edu (hgdownload.cse.ucsc.edu)... 128.114.198.53\n",
            "Connecting to hgdownload.cse.ucsc.edu (hgdownload.cse.ucsc.edu)|128.114.198.53|:80... connected.\n",
            "HTTP request sent, awaiting response... 200 OK\n",
            "Length: 1166471220 (1.1G) [application/octet-stream]\n",
            "Saving to: ‘H3K4me1.bam’\n",
            "\n",
            "H3K4me1.bam         100%[===================>]   1.09G  49.1MB/s    in 21s     \n",
            "\n",
            "2024-03-22 15:10:56 (52.0 MB/s) - ‘H3K4me1.bam’ saved [1166471220/1166471220]\n",
            "\n",
            "--2024-03-22 15:10:56--  http://hgdownload.cse.ucsc.edu/goldenPath/hg19/encodeDCC/wgEncodeBroadHistone/wgEncodeBroadHistoneDnd41H3k04me2AlnRep1.bam\n",
            "Resolving hgdownload.cse.ucsc.edu (hgdownload.cse.ucsc.edu)... 128.114.198.53\n",
            "Connecting to hgdownload.cse.ucsc.edu (hgdownload.cse.ucsc.edu)|128.114.198.53|:80... connected.\n",
            "HTTP request sent, awaiting response... 200 OK\n",
            "Length: 1120577001 (1.0G) [application/octet-stream]\n",
            "Saving to: ‘H3K4me2.bam’\n",
            "\n",
            "H3K4me2.bam         100%[===================>]   1.04G  54.0MB/s    in 20s     \n",
            "\n",
            "2024-03-22 15:11:17 (52.3 MB/s) - ‘H3K4me2.bam’ saved [1120577001/1120577001]\n",
            "\n",
            "--2024-03-22 15:11:17--  http://hgdownload.cse.ucsc.edu/goldenPath/hg19/encodeDCC/wgEncodeBroadHistone/wgEncodeBroadHistoneDnd41H3k04me3AlnRep1.bam\n",
            "Resolving hgdownload.cse.ucsc.edu (hgdownload.cse.ucsc.edu)... 128.114.198.53\n",
            "Connecting to hgdownload.cse.ucsc.edu (hgdownload.cse.ucsc.edu)|128.114.198.53|:80... connected.\n",
            "HTTP request sent, awaiting response... 200 OK\n",
            "Length: 1387145166 (1.3G) [application/octet-stream]\n",
            "Saving to: ‘H3K4me3.bam’\n",
            "\n",
            "H3K4me3.bam         100%[===================>]   1.29G  49.2MB/s    in 26s     \n",
            "\n",
            "2024-03-22 15:11:43 (51.7 MB/s) - ‘H3K4me3.bam’ saved [1387145166/1387145166]\n",
            "\n",
            "--2024-03-22 15:11:43--  http://hgdownload.cse.ucsc.edu/goldenPath/hg19/encodeDCC/wgEncodeBroadHistone/wgEncodeBroadHistoneDnd41H3k79me2AlnRep1.bam\n",
            "Resolving hgdownload.cse.ucsc.edu (hgdownload.cse.ucsc.edu)... 128.114.198.53\n",
            "Connecting to hgdownload.cse.ucsc.edu (hgdownload.cse.ucsc.edu)|128.114.198.53|:80... connected.\n",
            "HTTP request sent, awaiting response... 200 OK\n",
            "Length: 1452123141 (1.4G) [application/octet-stream]\n",
            "Saving to: ‘H3K79me2.bam’\n",
            "\n",
            "H3K79me2.bam        100%[===================>]   1.35G  50.8MB/s    in 27s     \n",
            "\n",
            "2024-03-22 15:12:11 (50.8 MB/s) - ‘H3K79me2.bam’ saved [1452123141/1452123141]\n",
            "\n",
            "--2024-03-22 15:12:11--  http://hgdownload.cse.ucsc.edu/goldenPath/hg19/encodeDCC/wgEncodeBroadHistone/wgEncodeBroadHistoneDnd41H3k09acAlnRep1.bam\n",
            "Resolving hgdownload.cse.ucsc.edu (hgdownload.cse.ucsc.edu)... 128.114.198.53\n",
            "Connecting to hgdownload.cse.ucsc.edu (hgdownload.cse.ucsc.edu)|128.114.198.53|:80... connected.\n",
            "HTTP request sent, awaiting response... 200 OK\n",
            "Length: 1228857874 (1.1G) [application/octet-stream]\n",
            "Saving to: ‘H3K9ac.bam’\n",
            "\n",
            "H3K9ac.bam          100%[===================>]   1.14G  49.1MB/s    in 24s     \n",
            "\n",
            "2024-03-22 15:12:35 (48.4 MB/s) - ‘H3K9ac.bam’ saved [1228857874/1228857874]\n",
            "\n",
            "--2024-03-22 15:12:35--  http://hgdownload.cse.ucsc.edu/goldenPath/hg19/encodeDCC/wgEncodeBroadHistone/wgEncodeBroadHistoneDnd41H3k09me3AlnRep1.bam\n",
            "Resolving hgdownload.cse.ucsc.edu (hgdownload.cse.ucsc.edu)... 128.114.198.53\n",
            "Connecting to hgdownload.cse.ucsc.edu (hgdownload.cse.ucsc.edu)|128.114.198.53|:80... connected.\n",
            "HTTP request sent, awaiting response... 200 OK\n",
            "Length: 1103486625 (1.0G) [application/octet-stream]\n",
            "Saving to: ‘H3K9me3.bam’\n",
            "\n",
            "H3K9me3.bam         100%[===================>]   1.03G  50.9MB/s    in 21s     \n",
            "\n",
            "2024-03-22 15:12:57 (50.8 MB/s) - ‘H3K9me3.bam’ saved [1103486625/1103486625]\n",
            "\n",
            "--2024-03-22 15:12:57--  http://hgdownload.cse.ucsc.edu/goldenPath/hg19/encodeDCC/wgEncodeBroadHistone/wgEncodeBroadHistoneDnd41ControlStdAlnRep1.bam\n",
            "Resolving hgdownload.cse.ucsc.edu (hgdownload.cse.ucsc.edu)... 128.114.198.53\n",
            "Connecting to hgdownload.cse.ucsc.edu (hgdownload.cse.ucsc.edu)|128.114.198.53|:80... connected.\n",
            "HTTP request sent, awaiting response... 200 OK\n",
            "Length: 1650447405 (1.5G) [application/octet-stream]\n",
            "Saving to: ‘Control.bam’\n",
            "\n",
            "Control.bam         100%[===================>]   1.54G  54.3MB/s    in 30s     \n",
            "\n",
            "2024-03-22 15:13:27 (52.6 MB/s) - ‘Control.bam’ saved [1650447405/1650447405]\n",
            "\n"
          ]
        }
      ]
    },
    {
      "cell_type": "markdown",
      "source": [
        "Вручную создаем текстовый файл cellmarkfiletable.txt, в котором указываем название типа клеток, разных гистоновых меток, а также соответствующие .bam файлы для эксперимента и контроля. Один и тот же контрольный файл .bam может быть использован для всех экспериментов.\n",
        "\n",
        "Файл cellmarkfiletable.txt добавила в github-репозиторий для отчета"
      ],
      "metadata": {
        "id": "N9uFGZMsADmy"
      }
    },
    {
      "cell_type": "code",
      "source": [
        "import os\n",
        "\n",
        "control = 'Control.bam'\n",
        "\n",
        "with open(f'cellmarkfiletable.txt', 'a') as the_file:\n",
        "  for file in os.listdir():\n",
        "    if file[-3:] == 'bam' and \"Control\" not in file:\n",
        "      the_file.write(f'Dnd41\\t{file[:-4]}\\t{file}\\t{control}\\n')"
      ],
      "metadata": {
        "id": "6eLGeMXCANiQ"
      },
      "execution_count": null,
      "outputs": []
    },
    {
      "cell_type": "markdown",
      "source": [
        "Запускаем ChromHMM с опцией BinarizeBam, чтобы конвертировать профили из ChIP-seq экспериментов (bam-файлы) в табличку из 0 и 1, т.е. чтобы сделать разбивку генома на условные интервалы (бины) длиной 200 п.о."
      ],
      "metadata": {
        "id": "lchgeTK4Avne"
      }
    },
    {
      "cell_type": "code",
      "source": [
        "!java -mx5000M -jar /content/ChromHMM/ChromHMM.jar BinarizeBam -b 200  /content/ChromHMM/CHROMSIZES/hg19.txt /content/ cellmarkfiletable.txt   binarizedData"
      ],
      "metadata": {
        "id": "dsIdoJIrAxSj",
        "colab": {
          "base_uri": "https://localhost:8080/"
        },
        "outputId": "3a89682d-c7ae-4c1a-ec51-b73f762ccf98"
      },
      "execution_count": null,
      "outputs": [
        {
          "output_type": "stream",
          "name": "stdout",
          "text": [
            "Writing to file binarizedData/Dnd41_chr1_binary.txt\n",
            "Writing to file binarizedData/Dnd41_chr2_binary.txt\n",
            "Writing to file binarizedData/Dnd41_chr3_binary.txt\n",
            "Writing to file binarizedData/Dnd41_chr4_binary.txt\n",
            "Writing to file binarizedData/Dnd41_chr5_binary.txt\n",
            "Writing to file binarizedData/Dnd41_chr6_binary.txt\n",
            "Writing to file binarizedData/Dnd41_chr7_binary.txt\n",
            "Writing to file binarizedData/Dnd41_chrX_binary.txt\n",
            "Writing to file binarizedData/Dnd41_chr8_binary.txt\n",
            "Writing to file binarizedData/Dnd41_chr9_binary.txt\n",
            "Writing to file binarizedData/Dnd41_chr10_binary.txt\n",
            "Writing to file binarizedData/Dnd41_chr11_binary.txt\n",
            "Writing to file binarizedData/Dnd41_chr12_binary.txt\n",
            "Writing to file binarizedData/Dnd41_chr13_binary.txt\n",
            "Writing to file binarizedData/Dnd41_chr14_binary.txt\n",
            "Writing to file binarizedData/Dnd41_chr15_binary.txt\n",
            "Writing to file binarizedData/Dnd41_chr16_binary.txt\n",
            "Writing to file binarizedData/Dnd41_chr17_binary.txt\n",
            "Writing to file binarizedData/Dnd41_chr18_binary.txt\n",
            "Writing to file binarizedData/Dnd41_chr20_binary.txt\n",
            "Writing to file binarizedData/Dnd41_chrY_binary.txt\n",
            "Writing to file binarizedData/Dnd41_chr19_binary.txt\n",
            "Writing to file binarizedData/Dnd41_chr22_binary.txt\n",
            "Writing to file binarizedData/Dnd41_chr21_binary.txt\n",
            "Writing to file binarizedData/Dnd41_chrM_binary.txt\n"
          ]
        }
      ]
    },
    {
      "cell_type": "markdown",
      "source": [
        "Запускаем ChromHMM с опцией LearnModel, которая автоматически определит параметры N разных эпигенетических типов с наиболее выраженными наборами гистоновых меток и присвоит каждому геномному интервалу определенный эпигенетический тип. Количество разных эпигенетических типов (или состояний), которое я выбрала - 12. Работаем с версией референсного генома человека hg19."
      ],
      "metadata": {
        "id": "Y5Lm-7P1BBqd"
      }
    },
    {
      "cell_type": "code",
      "source": [
        "!java -mx5000M -jar /content/ChromHMM/ChromHMM.jar LearnModel -b 200 /content/binarizedData/ /content/data 12 hg19"
      ],
      "metadata": {
        "id": "hCjX_YkMBKM2",
        "colab": {
          "base_uri": "https://localhost:8080/"
        },
        "outputId": "8cbed972-f81a-4426-f8dc-246d8af4d358"
      },
      "execution_count": null,
      "outputs": [
        {
          "output_type": "stream",
          "name": "stdout",
          "text": [
            "Writing to file /content/data/transitions_12.txt\n",
            "Writing to file /content/data/emissions_12.txt\n",
            "Writing to file /content/data/emissions_12.svg\n",
            "Writing to file /content/data/emissions_12.png\n",
            "Writing to file /content/data/transitions_12.png\n",
            "Writing to file /content/data/transitions_12.svg\n",
            "Writing to file /content/data/model_12.txt\n",
            " Iteration  Estimated Log Likelihood     Change    Total Time (secs)\n",
            "         1             -10737726.955          -                 22.8\n",
            "         2              -8867914.527 1869812.428                 42.9\n",
            "         3              -8462291.118 405623.409                 71.3\n",
            "         4              -8325096.087 137195.031                104.3\n",
            "         5              -8252270.806  72825.281                122.2\n",
            "         6              -8192584.570  59686.236                138.8\n",
            "         7              -8145537.459  47047.111                155.5\n",
            "         8              -8114538.750  30998.709                172.2\n",
            "         9              -8096880.633  17658.117                188.8\n",
            "        10              -8087412.074   9468.559                205.9\n",
            "        11              -8082002.897   5409.177                223.5\n",
            "        12              -8078472.476   3530.421                240.3\n",
            "        13              -8075985.796   2486.680                259.4\n",
            "        14              -8074175.747   1810.049                275.8\n",
            "        15              -8072828.801   1346.946                293.1\n",
            "        16              -8071812.002   1016.799                310.6\n",
            "        17              -8071044.049    767.953                327.3\n",
            "        18              -8070469.071    574.978                343.8\n",
            "        19              -8070044.915    424.156                360.4\n",
            "        20              -8069737.974    306.941                377.0\n",
            "        21              -8069520.249    217.725                394.2\n",
            "        22              -8069368.565    151.684                411.9\n",
            "        23              -8069264.479    104.087                428.7\n",
            "        24              -8069193.897     70.582                445.3\n",
            "        25              -8069146.469     47.428                462.2\n",
            "        26              -8069114.813     31.655                479.4\n",
            "        27              -8069093.786     21.027                497.4\n",
            "        28              -8069079.864     13.922                514.5\n",
            "        29              -8069070.662      9.202                531.1\n",
            "        30              -8069064.562      6.100                547.8\n",
            "        31              -8069060.570      3.992                564.5\n",
            "        32              -8069057.936      2.635                584.4\n",
            "        33              -8069056.199      1.737                601.2\n",
            "        34              -8069055.053      1.146                617.9\n",
            "        35              -8069054.298      0.755                634.7\n",
            "        36              -8069053.800      0.498                651.4\n",
            "        37              -8069053.471      0.328                669.1\n",
            "        38              -8069053.255      0.216                686.7\n",
            "        39              -8069053.112      0.143                703.4\n",
            "        40              -8069053.019      0.094                720.2\n",
            "        41              -8069052.957      0.062                737.0\n",
            "        42              -8069052.916      0.041                753.8\n",
            "        43              -8069052.890      0.026                771.9\n",
            "        44              -8069052.872      0.017                788.9\n",
            "        45              -8069052.861      0.011                805.7\n",
            "        46              -8069052.854      0.007                822.5\n",
            "        47              -8069052.849      0.005                839.2\n",
            "        48              -8069052.846      0.003                860.4\n",
            "        49              -8069052.844      0.002                877.3\n",
            "        50              -8069052.843      0.001                895.8\n",
            "        51              -8069052.843      0.001                912.6\n",
            "Writing to file /content/data/Dnd41_12_segments.bed\n",
            "Writing to file /content/data/Dnd41_12_dense.bed\n",
            "Writing to file /content/data/Dnd41_12_expanded.bed\n",
            "Writing to file /content/data/Dnd41_12_overlap.txt\n",
            "Writing to file /content/data/Dnd41_12_overlap.png\n",
            "Writing to file /content/data/Dnd41_12_overlap.svg\n",
            "Writing to file /content/data/Dnd41_12_RefSeqTSS_neighborhood.txt\n",
            "Writing to file /content/data/Dnd41_12_RefSeqTSS_neighborhood.png\n",
            "Writing to file /content/data/Dnd41_12_RefSeqTSS_neighborhood.svg\n",
            "Writing to file /content/data/Dnd41_12_RefSeqTES_neighborhood.txt\n",
            "Writing to file /content/data/Dnd41_12_RefSeqTES_neighborhood.png\n",
            "Writing to file /content/data/Dnd41_12_RefSeqTES_neighborhood.svg\n",
            "Warning could not automatically open in a browser /content/data/webpage_12.html\n"
          ]
        }
      ]
    },
    {
      "cell_type": "markdown",
      "source": [
        "В результате выполнения команды LearnModel создан набор файлов (в том числе HTML-страничка) в папке выдачи, которая была указана при запуске. Скачала эту папку себе на копьютер и открыла HTML файл."
      ],
      "metadata": {
        "id": "qoRF3nqFCUz-"
      }
    },
    {
      "cell_type": "markdown",
      "source": [
        "## Бонусная часть"
      ],
      "metadata": {
        "id": "EthZNB_S-mEp"
      }
    },
    {
      "cell_type": "markdown",
      "source": [
        "В _dense.bed файле, который был создан программой ChromHMM, заменила номера эпигенетических типов (4-й столбец) на их соответствующие названия. Это позволит более удобно визуализировать полученную эпигенетическую аннотацию генома."
      ],
      "metadata": {
        "id": "Yk_bXHdMAMVc"
      }
    },
    {
      "cell_type": "code",
      "source": [
        "from google.colab import files\n",
        "import os\n",
        "\n",
        "states = ['Active_Promoter',\n",
        "          'Weak_Enhancer',\n",
        "          'Strong_Enhancer',\n",
        "          'Active_Promoter',\n",
        "          'Active_Promoter',\n",
        "          'Weak_Enhancer',\n",
        "          'Weak_Enhancer',\n",
        "          'Weak_Enhancer',\n",
        "          'Weak_Enhancer',\n",
        "          'Weak_Transcribed',\n",
        "          'Weak_Transcribed',\n",
        "          'Weak_Transcribed']\n",
        "\n",
        "with open('Dnd41_12_dense.bed', 'r') as f:\n",
        "  with open('Dnd41_12_dense_new.bed', 'a') as new_f:\n",
        "    lines = f.readlines()\n",
        "    new_f.write(lines[0])\n",
        "    for line in lines[1:]:\n",
        "        l = line.split('\\t')\n",
        "        l[3] = l[3] + '_' + states[int(l[3]) - 1]\n",
        "        new_f.write('\\t'.join(l))"
      ],
      "metadata": {
        "id": "U5fRidwi-Pne"
      },
      "execution_count": null,
      "outputs": []
    }
  ]
}